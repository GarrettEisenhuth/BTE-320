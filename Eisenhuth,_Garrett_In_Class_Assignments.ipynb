{
  "nbformat": 4,
  "nbformat_minor": 0,
  "metadata": {
    "colab": {
      "provenance": [],
      "authorship_tag": "ABX9TyPmfBxvAkfLTCaHZIB5Z8Fv",
      "include_colab_link": true
    },
    "kernelspec": {
      "name": "python3",
      "display_name": "Python 3"
    },
    "language_info": {
      "name": "python"
    }
  },
  "cells": [
    {
      "cell_type": "markdown",
      "metadata": {
        "id": "view-in-github",
        "colab_type": "text"
      },
      "source": [
        "<a href=\"https://colab.research.google.com/github/GarrettEisenhuth/BTE-320/blob/main/Eisenhuth%2C_Garrett_In_Class_Assignments.ipynb\" target=\"_parent\"><img src=\"https://colab.research.google.com/assets/colab-badge.svg\" alt=\"Open In Colab\"/></a>"
      ]
    },
    {
      "cell_type": "code",
      "execution_count": null,
      "metadata": {
        "id": "XeWd0IkoZ9Y8"
      },
      "outputs": [],
      "source": [
        "pi = 3.14\n",
        "radius = float(input('Please provide radius: '))\n",
        "height = float(input('Please provide height: '))\n",
        "\n",
        "area = (2*pi*(radius**2))+(2*pi*radius*height)\n",
        "print(f'Surface Area of a Cylinder: {area} sq. ft')"
      ]
    },
    {
      "cell_type": "code",
      "source": [
        "n1 = float(input(\"Please provide first number: \"))\n",
        "n2 = float(input(\"Please provide second number: \"))\n",
        "s = input(\"Please provide operator (+, -, /, //, *, **, %): \")\n",
        "\n",
        "if s == \"+\":\n",
        "  print(f\"{n1} + {n2} = {n1 + n2}\")\n",
        "elif s == \"-\":\n",
        "  print(f\"{n1} - {n2} = {n1 - n2}\")\n",
        "elif s == \"/\":\n",
        "  print(f\"{n1} / {n2} = {n1 / n2}\")\n",
        "elif s == \"//\":\n",
        "  print(f\"{n1} // {n2} = {n1 // n2}\")\n",
        "elif s == \"*\":\n",
        "  print(f\"{n1} * {n2} = {n1 * n2}\")\n",
        "elif s == \"**\":\n",
        "  print(f\"{n1} ** {n2} = {n1 ** n2}\")\n",
        "elif s == \"%\":\n",
        "  print(f\"{n1} % {n2} = {n1 % n2}\")\n",
        "else:\n",
        "  print(\"Invalid operator\")"
      ],
      "metadata": {
        "id": "-MJf4PN7ee2N",
        "colab": {
          "base_uri": "https://localhost:8080/"
        },
        "outputId": "d645d146-efe1-4f61-d65f-66336c35e261"
      },
      "execution_count": null,
      "outputs": [
        {
          "output_type": "stream",
          "name": "stdout",
          "text": [
            "Please provide first number: 1\n",
            "Please provide second number: 2\n",
            "Please provide operator (+, -, /, //, *, **, %): +\n",
            "1.0 + 2.0 = 3.0\n"
          ]
        }
      ]
    },
    {
      "cell_type": "code",
      "source": [
        "=for numberHours in range(1, 9):\n",
        "  fee = 5.0 + (2.5 * numberHours)\n",
        "  if fee <= 10.0:\n",
        "    fee = 10.0\n",
        "  if fee >=20.0:\n",
        "    fee = 20.0\n",
        "  print(numberHours, fee)"
      ],
      "metadata": {
        "colab": {
          "base_uri": "https://localhost:8080/"
        },
        "id": "yip47nftMQw-",
        "outputId": "77e70534-ce14-4ff0-82f7-e1af69def55e"
      },
      "execution_count": null,
      "outputs": [
        {
          "output_type": "stream",
          "name": "stdout",
          "text": [
            "1 10.0\n",
            "2 10.0\n",
            "3 12.5\n",
            "4 15.0\n",
            "5 17.5\n",
            "6 20.0\n",
            "7 20.0\n",
            "8 20.0\n"
          ]
        }
      ]
    },
    {
      "cell_type": "code",
      "source": [
        "print(\"Ad$\", \"\\t\", \"Profit\")\n",
        "for adcost in range(0, 201, 25):\n",
        "  additional = 2 * round(adcost ** 0.5)\n",
        "  profit = (20 + additional) * 10 - 200 - adcost\n",
        "  print(adcost, \"\\t\", profit)"
      ],
      "metadata": {
        "colab": {
          "base_uri": "https://localhost:8080/"
        },
        "id": "nqLGIwRsRwQC",
        "outputId": "890ee868-1988-4467-bcd3-3a3913a9ed9d"
      },
      "execution_count": null,
      "outputs": [
        {
          "output_type": "stream",
          "name": "stdout",
          "text": [
            "Ad$ \t Profit\n",
            "0 \t 0\n",
            "25 \t 75\n",
            "50 \t 90\n",
            "75 \t 105\n",
            "100 \t 100\n",
            "125 \t 95\n",
            "150 \t 90\n",
            "175 \t 85\n",
            "200 \t 80\n"
          ]
        }
      ]
    },
    {
      "cell_type": "code",
      "source": [
        "print(\"Ad$\\t\", \"Profit\")\n",
        "\n",
        "adcost = 0\n",
        "while adcost < 201:\n",
        "  additional = 2 * round(adcost ** .5)\n",
        "  profit = (20 + additional) * 10 - 200 - adcost\n",
        "  print(adcost, \"\\t\", profit)\n",
        "  adcost = adcost + 25"
      ],
      "metadata": {
        "colab": {
          "base_uri": "https://localhost:8080/"
        },
        "id": "TKwSWGWQhIQ-",
        "outputId": "d67e5e58-739f-4c98-fd4c-36aabad7e22e"
      },
      "execution_count": null,
      "outputs": [
        {
          "output_type": "stream",
          "name": "stdout",
          "text": [
            "Ad$\t Profit\n",
            "0 \t 0\n",
            "25 \t 75\n",
            "50 \t 90\n",
            "75 \t 105\n",
            "100 \t 100\n",
            "125 \t 95\n",
            "150 \t 90\n",
            "175 \t 85\n",
            "200 \t 80\n"
          ]
        }
      ]
    },
    {
      "cell_type": "code",
      "source": [
        "play = input(\"Do you want to play a game (yes/no?): \")\n",
        "\n",
        "while play ==\"yes\":\n",
        "  p1 = input(\"Player 1 - choose between rock/paper/scissors: \")\n",
        "  p2 = input(\"Player 2 - choose between rock/paper/scissors: \")\n",
        "\n",
        "  if p1 == p2:\n",
        "    print(\"Draw\")\n",
        "  elif p1 == \"rock\" and p2 == \"scissors\":\n",
        "    print(\"Player 1 wins!\")\n",
        "  elif p1 == \"scissors\" and p2 == \"paper\":\n",
        "    print(\"Player 1 wins!\")\n",
        "  elif p1 == \"paper\" and p2 == \"rock\":\n",
        "    print(\"Player 1 wins!\")\n",
        "  else:\n",
        "    print(\"Player 2 wins!\")\n",
        "\n",
        "  play = input(\"Do you want to play a new game (yes/no?): \")\n",
        "\n",
        "print(\"Good day!\")"
      ],
      "metadata": {
        "colab": {
          "base_uri": "https://localhost:8080/"
        },
        "id": "BB7Jb18P9jyf",
        "outputId": "835eba2c-0e5b-4d9e-ee32-974e05307d5a"
      },
      "execution_count": null,
      "outputs": [
        {
          "output_type": "stream",
          "name": "stdout",
          "text": [
            "Do you want to play a game (yes/no?): yes\n",
            "Player 1 - choose between rock/paper/scissors: rock\n",
            "Player 2 - choose between rock/paper/scissors: paper\n",
            "Player 2 wins!\n",
            "Do you want to play a new game (yes/no?): no\n",
            "Good day!\n"
          ]
        }
      ]
    },
    {
      "cell_type": "code",
      "source": [
        "import random\n",
        "\n",
        "play = input(\"Do you want to play a game (yes/no?): \")\n",
        "\n",
        "while play == \"yes\":\n",
        "  p1 = input(\"Player 1 - Choose between rock/paper/scissors: \").capitalize()\n",
        "  p2 = random.choice([\"rock\", \"paper\", \"scissors\"]).capitalize()\n",
        "\n",
        "  print(f\"Player chose {p1}; Computer chose {p2}\")\n",
        "\n",
        "  if p1 == p2:\n",
        "    print(\"Draw\")\n",
        "  elif (p1 == \"Rock\" and p2 == \"Scissors\") or (p1 == \"Scissors\" and p2 == \"Paper\") or (p1 == \"Paper\" and p2 == \"Rock\"):\n",
        "    print(\"Player 1 wins!\")\n",
        "  else:\n",
        "    print(\"Player 2 wins!\")\n",
        "\n",
        "  play = input(\"Do you want to play a new game (yes/no?): \")\n",
        "\n",
        "print(\"Good day!\")"
      ],
      "metadata": {
        "colab": {
          "base_uri": "https://localhost:8080/"
        },
        "id": "vHGeKWycAnTp",
        "outputId": "151ab9c8-f7d8-45a3-e617-27165594423a"
      },
      "execution_count": 2,
      "outputs": [
        {
          "output_type": "stream",
          "name": "stdout",
          "text": [
            "Do you want to play a game (yes/no?): yes\n",
            "Player 1 - choose between rock/paper/scissors: rock\n",
            "Player chose Rock; Computer chose Scissors\n",
            "Player 1 wins!\n",
            "Do you want to play a new game (yes/no?): no\n",
            "Good day!\n"
          ]
        }
      ]
    }
  ]
}
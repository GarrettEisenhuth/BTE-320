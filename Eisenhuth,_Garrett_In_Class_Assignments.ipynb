{
  "nbformat": 4,
  "nbformat_minor": 0,
  "metadata": {
    "colab": {
      "provenance": [],
      "authorship_tag": "ABX9TyO0h0aKnQGp11IGEH8OckLb",
      "include_colab_link": true
    },
    "kernelspec": {
      "name": "python3",
      "display_name": "Python 3"
    },
    "language_info": {
      "name": "python"
    }
  },
  "cells": [
    {
      "cell_type": "markdown",
      "metadata": {
        "id": "view-in-github",
        "colab_type": "text"
      },
      "source": [
        "<a href=\"https://colab.research.google.com/github/GarrettEisenhuth/BTE-320/blob/main/Eisenhuth%2C_Garrett_In_Class_Assignments.ipynb\" target=\"_parent\"><img src=\"https://colab.research.google.com/assets/colab-badge.svg\" alt=\"Open In Colab\"/></a>"
      ]
    },
    {
      "cell_type": "code",
      "execution_count": null,
      "metadata": {
        "id": "XeWd0IkoZ9Y8"
      },
      "outputs": [],
      "source": [
        "pi = 3.14\n",
        "radius = float(input('Please provide radius: '))\n",
        "height = float(input('Please provide height: '))\n",
        "\n",
        "area = (2*pi*(radius**2))+(2*pi*radius*height)\n",
        "print(f'Surface Area of a Cylinder: {area} sq. ft')"
      ]
    },
    {
      "cell_type": "code",
      "source": [
        "n1 = float(input(\"Please provide first number: \"))\n",
        "n2 = float(input(\"Please provide second number: \"))\n",
        "s = input(\"Please provide operator (+, -, /, //, *, **, %): \")\n",
        "\n",
        "if s == \"+\":\n",
        "  print(f\"{n1} + {n2} = {n1 + n2}\")\n",
        "elif s == \"-\":\n",
        "  print(f\"{n1} - {n2} = {n1 - n2}\")\n",
        "elif s == \"/\":\n",
        "  print(f\"{n1} / {n2} = {n1 / n2}\")\n",
        "elif s == \"//\":\n",
        "  print(f\"{n1} // {n2} = {n1 // n2}\")\n",
        "elif s == \"*\":\n",
        "  print(f\"{n1} * {n2} = {n1 * n2}\")\n",
        "elif s == \"**\":\n",
        "  print(f\"{n1} ** {n2} = {n1 ** n2}\")\n",
        "elif s == \"%\":\n",
        "  print(f\"{n1} % {n2} = {n1 % n2}\")\n",
        "else:\n",
        "  print(\"Invalid operator\")"
      ],
      "metadata": {
        "id": "-MJf4PN7ee2N",
        "colab": {
          "base_uri": "https://localhost:8080/"
        },
        "outputId": "d645d146-efe1-4f61-d65f-66336c35e261"
      },
      "execution_count": null,
      "outputs": [
        {
          "output_type": "stream",
          "name": "stdout",
          "text": [
            "Please provide first number: 1\n",
            "Please provide second number: 2\n",
            "Please provide operator (+, -, /, //, *, **, %): +\n",
            "1.0 + 2.0 = 3.0\n"
          ]
        }
      ]
    },
    {
      "cell_type": "code",
      "source": [
        "for numberHours in range(1, 9):\n",
        "  fee = 5.0 + (2.5 * numberHours)\n",
        "  if fee <= 10.0:\n",
        "    fee = 10.0\n",
        "  if fee >=20.0:\n",
        "    fee = 20.0\n",
        "  print(numberHours, fee)"
      ],
      "metadata": {
        "colab": {
          "base_uri": "https://localhost:8080/"
        },
        "id": "yip47nftMQw-",
        "outputId": "e69ba97c-f867-49e6-ab24-e6c39756c944"
      },
      "execution_count": 2,
      "outputs": [
        {
          "output_type": "stream",
          "name": "stdout",
          "text": [
            "1 10.0\n",
            "2 10.0\n",
            "3 12.5\n",
            "4 15.0\n",
            "5 17.5\n",
            "6 20.0\n",
            "7 20.0\n",
            "8 20.0\n"
          ]
        }
      ]
    },
    {
      "cell_type": "code",
      "source": [
        "print(\"Ad$\", \"\\t\", \"Profit\")\n",
        "for adcost in range(0, 201, 25):\n",
        "  additional = 2 * round(adcost ** 0.5)\n",
        "  profit = (20 + additional) * 10 - 200 - adcost\n",
        "  print(adcost, \"\\t\", profit)"
      ],
      "metadata": {
        "colab": {
          "base_uri": "https://localhost:8080/"
        },
        "id": "nqLGIwRsRwQC",
        "outputId": "890ee868-1988-4467-bcd3-3a3913a9ed9d"
      },
      "execution_count": null,
      "outputs": [
        {
          "output_type": "stream",
          "name": "stdout",
          "text": [
            "Ad$ \t Profit\n",
            "0 \t 0\n",
            "25 \t 75\n",
            "50 \t 90\n",
            "75 \t 105\n",
            "100 \t 100\n",
            "125 \t 95\n",
            "150 \t 90\n",
            "175 \t 85\n",
            "200 \t 80\n"
          ]
        }
      ]
    },
    {
      "cell_type": "code",
      "source": [
        "print(\"Ad$\\t\", \"Profit\")\n",
        "\n",
        "adcost = 0\n",
        "while adcost < 201:\n",
        "  additional = 2 * round(adcost ** .5)\n",
        "  profit = (20 + additional) * 10 - 200 - adcost\n",
        "  print(adcost, \"\\t\", profit)\n",
        "  adcost = adcost + 25"
      ],
      "metadata": {
        "colab": {
          "base_uri": "https://localhost:8080/"
        },
        "id": "TKwSWGWQhIQ-",
        "outputId": "d67e5e58-739f-4c98-fd4c-36aabad7e22e"
      },
      "execution_count": null,
      "outputs": [
        {
          "output_type": "stream",
          "name": "stdout",
          "text": [
            "Ad$\t Profit\n",
            "0 \t 0\n",
            "25 \t 75\n",
            "50 \t 90\n",
            "75 \t 105\n",
            "100 \t 100\n",
            "125 \t 95\n",
            "150 \t 90\n",
            "175 \t 85\n",
            "200 \t 80\n"
          ]
        }
      ]
    },
    {
      "cell_type": "code",
      "source": [
        "import random\n",
        "\n",
        "play = input(\"Do you want to play a game (yes/no?): \")\n",
        "\n",
        "while play == \"yes\":\n",
        "  p1 = input(\"Player 1 - Choose between rock/paper/scissors: \").capitalize()\n",
        "  p2 = random.choice([\"rock\", \"paper\", \"scissors\"]).capitalize()\n",
        "\n",
        "  print(f\"Player chose {p1}; Computer chose {p2}\")\n",
        "\n",
        "  if p1 == p2:\n",
        "    print(\"Draw\")\n",
        "  elif (p1 == \"Rock\" and p2 == \"Scissors\") or (p1 == \"Scissors\" and p2 == \"Paper\") or (p1 == \"Paper\" and p2 == \"Rock\"):\n",
        "    print(\"Player 1 wins!\")\n",
        "  else:\n",
        "    print(\"Player 2 wins!\")\n",
        "\n",
        "  play = input(\"Do you want to play a new game (yes/no?): \")\n",
        "\n",
        "print(\"Good day!\")"
      ],
      "metadata": {
        "colab": {
          "base_uri": "https://localhost:8080/"
        },
        "id": "vHGeKWycAnTp",
        "outputId": "49d5dd09-666f-426c-d0d1-353f0cf98b95"
      },
      "execution_count": null,
      "outputs": [
        {
          "output_type": "stream",
          "name": "stdout",
          "text": [
            "Do you want to play a game (yes/no?): yes\n",
            "Player 1 - Choose between rock/paper/scissors: rock\n",
            "Player chose Rock; Computer chose Scissors\n",
            "Player 1 wins!\n",
            "Do you want to play a new game (yes/no?): no\n",
            "Good day!\n"
          ]
        }
      ]
    },
    {
      "cell_type": "code",
      "source": [
        "lst = []\n",
        "\n",
        "num = float(input(\"Give a number: \"))\n",
        "\n",
        "while num != 0.0:\n",
        "  lst.append(num)\n",
        "  num = float(input(\"Give a number: \"))\n",
        "lst.sort(reverse=True)\n",
        "print(lst)"
      ],
      "metadata": {
        "colab": {
          "base_uri": "https://localhost:8080/"
        },
        "id": "gTnA2LboCME4",
        "outputId": "2e6ad4cb-1db8-4844-fe2f-9893670573e9"
      },
      "execution_count": null,
      "outputs": [
        {
          "output_type": "stream",
          "name": "stdout",
          "text": [
            "Give a number: 9\n",
            "Give a number: 6\n",
            "Give a number: 3\n",
            "Give a number: 0\n",
            "[9.0, 6.0, 3.0]\n"
          ]
        }
      ]
    },
    {
      "cell_type": "code",
      "source": [
        "months = {}\n",
        "\n",
        "names = [\"Jan\", \"Feb\", \"Mar\", \"Apr\", \"May\", \"Jun\", \"Jul\", \"Aug\", \"Sep\", \"Oct\", \"Nov\", \"Dec\"]\n",
        "numbers = [1,2,3,4,5,6,7,8,9,10,11,12]\n",
        "\n",
        "for idx in range(len(numbers)):\n",
        "  months[numbers[idx]] = names[idx]\n",
        "months"
      ],
      "metadata": {
        "colab": {
          "base_uri": "https://localhost:8080/"
        },
        "id": "8-XsT2-ulSXf",
        "outputId": "e99029c9-394b-427c-c30d-d0be1a6ae331"
      },
      "execution_count": null,
      "outputs": [
        {
          "output_type": "execute_result",
          "data": {
            "text/plain": [
              "{1: 'Jan',\n",
              " 2: 'Feb',\n",
              " 3: 'Mar',\n",
              " 4: 'Apr',\n",
              " 5: 'May',\n",
              " 6: 'Jun',\n",
              " 7: 'Jul',\n",
              " 8: 'Aug',\n",
              " 9: 'Sep',\n",
              " 10: 'Oct',\n",
              " 11: 'Nov',\n",
              " 12: 'Dec'}"
            ]
          },
          "metadata": {},
          "execution_count": 5
        }
      ]
    },
    {
      "cell_type": "code",
      "source": [
        "months = {}\n",
        "\n",
        "names = [\"Jan\", \"Feb\", \"Mar\", \"Apr\", \"May\", \"Jun\", \"Jul\", \"Aug\", \"Sep\", \"Oct\", \"Nov\", \"Dec\"]\n",
        "numbers = [1,2,3,4,5,6,7,8,9,10,11,12]\n",
        "\n",
        "cntr = 0\n",
        "for num in numbers:\n",
        "  months[num] = names[cntr]\n",
        "  cntr += 1\n",
        "months"
      ],
      "metadata": {
        "colab": {
          "base_uri": "https://localhost:8080/"
        },
        "id": "UizLeMj8mTnx",
        "outputId": "3a69e785-4e15-4c0b-853f-a5e058651870"
      },
      "execution_count": null,
      "outputs": [
        {
          "output_type": "execute_result",
          "data": {
            "text/plain": [
              "{1: 'Jan',\n",
              " 2: 'Feb',\n",
              " 3: 'Mar',\n",
              " 4: 'Apr',\n",
              " 5: 'May',\n",
              " 6: 'Jun',\n",
              " 7: 'Jul',\n",
              " 8: 'Aug',\n",
              " 9: 'Sep',\n",
              " 10: 'Oct',\n",
              " 11: 'Nov',\n",
              " 12: 'Dec'}"
            ]
          },
          "metadata": {},
          "execution_count": 6
        }
      ]
    },
    {
      "cell_type": "code",
      "source": [
        "counts = {}\n",
        "\n",
        "while len(counts) <5:\n",
        "  key = input(\"Give me a string: \")\n",
        "\n",
        "  if key not in counts:\n",
        "    counts[key] = 1\n",
        "  else:\n",
        "    counts[key] += 1\n",
        "\n",
        "counts"
      ],
      "metadata": {
        "colab": {
          "base_uri": "https://localhost:8080/"
        },
        "id": "dkwdg-t7rch1",
        "outputId": "1aa2c6a3-1611-497f-a43a-837acdf7e4ee"
      },
      "execution_count": null,
      "outputs": [
        {
          "name": "stdout",
          "output_type": "stream",
          "text": [
            "Give me a string: a\n",
            "Give me a string: b\n",
            "Give me a string: c\n",
            "Give me a string: c\n",
            "Give me a string: d\n",
            "Give me a string: a\n",
            "Give me a string: a\n",
            "Give me a string: a\n",
            "Give me a string: e\n"
          ]
        },
        {
          "output_type": "execute_result",
          "data": {
            "text/plain": [
              "{'a': 4, 'b': 1, 'c': 2, 'd': 1, 'e': 1}"
            ]
          },
          "metadata": {},
          "execution_count": 9
        }
      ]
    },
    {
      "cell_type": "code",
      "source": [
        "def calcFee(hours):\n",
        "  fee = 5.0 + (2.5 * hours)\n",
        "  if fee <= 10.0:\n",
        "    fee = 10.0\n",
        "  if fee >=20.0:\n",
        "    fee = 20.0\n",
        "  print(f'Fee: {fee}$')\n",
        "\n",
        "print(\"Program starts...\")\n",
        "numHours = int(input(\"Enter number of hours: \"))\n",
        "calcFee(numHours)"
      ],
      "metadata": {
        "colab": {
          "base_uri": "https://localhost:8080/"
        },
        "id": "BVSecYnfZbLu",
        "outputId": "fe19b56d-e6bd-479f-bb69-bbeaab541f6b"
      },
      "execution_count": 14,
      "outputs": [
        {
          "output_type": "stream",
          "name": "stdout",
          "text": [
            "Program starts...\n",
            "Enter number of hours: 5\n",
            "Fee: 17.5$\n"
          ]
        }
      ]
    }
  ]
}